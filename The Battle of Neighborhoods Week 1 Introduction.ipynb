{
 "cells": [
  {
   "cell_type": "markdown",
   "metadata": {},
   "source": [
    "# Capstone Project - The Battle of the Neighborhoods (Week 1)\n",
    "Applied Data Science Capstone by IBM/Coursera"
   ]
  },
  {
   "cell_type": "markdown",
   "metadata": {},
   "source": [
    "# Introduction: Business Problem <a name=\"introduction\"></a>"
   ]
  },
  {
   "cell_type": "markdown",
   "metadata": {},
   "source": [
    "In this project we will try to find an optimal location for a Yoga Center. This report is essentially targetted for stake holders interested in starting a new **Yoga Center in Bangalore ,India** \n",
    "\n",
    "Bangalore also known as the Silicon Valley of India is home to millions of Indians from all over india, working in various IT companies. A booming cosmopolitan population has meant huge growth potential in tertiary service industry. Natuarally in recent times franchise model of businesses have taken hold in many parts of Bangalore. Same holds true for Health and Fitness sector as well.\n",
    "\n",
    "With more and more people becoming fitness aware, has meant the cut throat competition . Thus Businesses have to look into niche offerings like Yoga , Zumba etc. A dedicated Yoga Center is quite a lucrative offering since it addresses mind and body fitness. Also the target audience larger, since Yoga can be taken up by people of all age groups compared to a regular Gym or Zumba center which may be only target population between 20-40. \n",
    "\n",
    "While a Gym may not be in direct competition of a Yoga center,we will try to find locations which does not have any fitness center in the vicinity. Also we will seek out locations which are in close vicinity of **residential, offices, colleges and commercial centers.** \n",
    "\n",
    "We will utilize tools and techniques in data science to generate a few most favorable areas based on the above criteria. "
   ]
  },
  {
   "cell_type": "code",
   "execution_count": null,
   "metadata": {
    "collapsed": true
   },
   "outputs": [],
   "source": []
  }
 ],
 "metadata": {
  "kernelspec": {
   "display_name": "Python 3",
   "language": "python",
   "name": "python3"
  },
  "language_info": {
   "codemirror_mode": {
    "name": "ipython",
    "version": 3
   },
   "file_extension": ".py",
   "mimetype": "text/x-python",
   "name": "python",
   "nbconvert_exporter": "python",
   "pygments_lexer": "ipython3",
   "version": "3.6.2"
  }
 },
 "nbformat": 4,
 "nbformat_minor": 2
}
